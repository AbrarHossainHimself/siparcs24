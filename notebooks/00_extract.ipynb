{
 "cells": [
  {
   "cell_type": "code",
   "execution_count": 1,
   "id": "949f9eea-6ee8-4695-af31-837c7efe22c6",
   "metadata": {
    "tags": []
   },
   "outputs": [],
   "source": [
    "import requests\n",
    "import datetime"
   ]
  },
  {
   "cell_type": "code",
   "execution_count": 2,
   "id": "87e2d72e-4611-4888-9768-739b3082b67c",
   "metadata": {
    "tags": []
   },
   "outputs": [],
   "source": [
    "with open(\"creds.txt\") as f:\n",
    "    creds = f.read()"
   ]
  },
  {
   "cell_type": "code",
   "execution_count": 3,
   "id": "609f44af-b784-4275-b0fd-6f86d7a55b69",
   "metadata": {
    "tags": []
   },
   "outputs": [],
   "source": [
    "def fetch_store_data(url, fname):\n",
    "    r = requests.get(url)\n",
    "    if r.status_code == 200:\n",
    "        with open(f\"../data/{fname}_raw_data_NEON_RMNP_iotwx.csv\", \"wb\") as fo:\n",
    "            fo.write(r.content)\n",
    "        return '.'\n",
    "    else:\n",
    "        return(f'[fail]: {r.status_code}')"
   ]
  },
  {
   "cell_type": "code",
   "execution_count": 4,
   "id": "94058db9-765e-4632-9982-25c92610273c",
   "metadata": {
    "tags": []
   },
   "outputs": [
    {
     "name": "stdout",
     "output_type": "stream",
     "text": [
      ".................."
     ]
    }
   ],
   "source": [
    "start = datetime.datetime(2023,8,1)\n",
    "end   = datetime.datetime(2024,4,1)\n",
    "interval = 14\n",
    "\n",
    "cur_date = start\n",
    "while(True):\n",
    "    if cur_date < end:\n",
    "        url_start, url_end = str(cur_date).replace(' ', 'T'), \\\n",
    "                             str(cur_date+datetime.timedelta(days=interval)).replace(' ', 'T')\n",
    "        \n",
    "        url = f\"https://cisl-chords.cloud.ucar.edu/api/v1/data/23.csv?start={url_start}&end={url_end}&{creds}\"\n",
    "        fname = f\"{url_start.split('T')[0]}_{url_end.split('T')[0]}\" \n",
    "        \n",
    "        print( fetch_store_data(url, fname), end='' ) \n",
    "        \n",
    "        cur_date = cur_date+datetime.timedelta(days=14)\n",
    "    else:\n",
    "        break"
   ]
  },
  {
   "cell_type": "markdown",
   "id": "6d897d55-12f4-4c0d-aa61-b0ca4e4c4e21",
   "metadata": {},
   "source": [
    "$\\Xi$"
   ]
  }
 ],
 "metadata": {
  "kernelspec": {
   "display_name": "Python 3 (ipykernel)",
   "language": "python",
   "name": "python3"
  },
  "language_info": {
   "codemirror_mode": {
    "name": "ipython",
    "version": 3
   },
   "file_extension": ".py",
   "mimetype": "text/x-python",
   "name": "python",
   "nbconvert_exporter": "python",
   "pygments_lexer": "ipython3",
   "version": "3.11.8"
  }
 },
 "nbformat": 4,
 "nbformat_minor": 5
}
